{
 "cells": [
  {
   "cell_type": "markdown",
   "metadata": {},
   "source": [
    "# Prepare test simulation results for unit testing\n",
    "- Run using version cNMF 1.6.0"
   ]
  },
  {
   "cell_type": "code",
   "execution_count": 56,
   "metadata": {},
   "outputs": [],
   "source": [
    "\n",
    "import os\n",
    "import pandas as pd\n",
    "import numpy as np\n",
    "from scipy.io import mmread\n",
    "import scipy.sparse as sp\n",
    "import scanpy as sc\n",
    "from cnmf import cNMF\n",
    "\n",
    "if not os.path.exists('example_PBMC'):\n",
    "    os.mkdir('example_PBMC')\n",
    "    \n",
    "np.random.seed(14)"
   ]
  },
  {
   "cell_type": "markdown",
   "metadata": {},
   "source": [
    "## Download the data and copy it to the directory ./example_PBMC"
   ]
  },
  {
   "cell_type": "code",
   "execution_count": 57,
   "metadata": {},
   "outputs": [
    {
     "name": "stdout",
     "output_type": "stream",
     "text": [
      "--2025-03-01 23:37:02--  http://cf.10xgenomics.com/samples/cell-exp/1.1.0/pbmc3k/pbmc3k_filtered_gene_bc_matrices.tar.gz\n",
      "Resolving cf.10xgenomics.com (cf.10xgenomics.com)... 104.18.1.173, 104.18.0.173\n",
      "connected. to cf.10xgenomics.com (cf.10xgenomics.com)|104.18.1.173|:80... \n",
      "301 Moved Permanentlyaiting response... \n",
      "Location: https://cf.10xgenomics.com/samples/cell-exp/1.1.0/pbmc3k/pbmc3k_filtered_gene_bc_matrices.tar.gz [following]\n",
      "--2025-03-01 23:37:02--  https://cf.10xgenomics.com/samples/cell-exp/1.1.0/pbmc3k/pbmc3k_filtered_gene_bc_matrices.tar.gz\n",
      "Connecting to cf.10xgenomics.com (cf.10xgenomics.com)|104.18.1.173|:443... connected.\n",
      "200 OKequest sent, awaiting response... \n",
      "Length: 7621991 (7.3M) [application/x-tar]\n",
      "Saving to: ‘example_PBMC/pbmc3k_filtered_gene_bc_matrices.tar.gz’\n",
      "\n",
      "example_PBMC/pbmc3k 100%[===================>]   7.27M  37.6MB/s    in 0.2s    \n",
      "\n",
      "2025-03-01 23:37:02 (37.6 MB/s) - ‘example_PBMC/pbmc3k_filtered_gene_bc_matrices.tar.gz’ saved [7621991/7621991]\n",
      "\n",
      "x filtered_gene_bc_matrices/\n",
      "x filtered_gene_bc_matrices/hg19/\n",
      "x filtered_gene_bc_matrices/hg19/matrix.mtx\n",
      "x filtered_gene_bc_matrices/hg19/genes.tsv\n",
      "x filtered_gene_bc_matrices/hg19/barcodes.tsv\n"
     ]
    }
   ],
   "source": [
    "! wget -O example_PBMC/pbmc3k_filtered_gene_bc_matrices.tar.gz http://cf.10xgenomics.com/samples/cell-exp/1.1.0/pbmc3k/pbmc3k_filtered_gene_bc_matrices.tar.gz\n",
    "! tar -zxvf example_PBMC/pbmc3k_filtered_gene_bc_matrices.tar.gz    \n",
    "! mv filtered_gene_bc_matrices example_PBMC\n",
    "! rm  example_PBMC/pbmc3k_filtered_gene_bc_matrices.tar.gz"
   ]
  },
  {
   "cell_type": "markdown",
   "metadata": {},
   "source": [
    "## Load the dataset as a sparse matrix into the Scanpy structure and then filter genes that aren't observed in  at least 3 cells, and cells with fewer than 200 genes detected"
   ]
  },
  {
   "cell_type": "code",
   "execution_count": 58,
   "metadata": {},
   "outputs": [],
   "source": [
    "adata = sc.read_10x_mtx(\n",
    "    'example_PBMC/filtered_gene_bc_matrices/hg19/',\n",
    "    var_names='gene_symbols',\n",
    "    cache=False)\n",
    "\n",
    "adata.var_names_make_unique()"
   ]
  },
  {
   "cell_type": "code",
   "execution_count": 59,
   "metadata": {},
   "outputs": [
    {
     "data": {
      "text/plain": [
       "AnnData object with n_obs × n_vars = 2700 × 32738\n",
       "    var: 'gene_ids'"
      ]
     },
     "execution_count": 59,
     "metadata": {},
     "output_type": "execute_result"
    }
   ],
   "source": [
    "## Loaded data of 2700 PBMCs with 32738 genes\n",
    "adata"
   ]
  },
  {
   "cell_type": "code",
   "execution_count": 60,
   "metadata": {},
   "outputs": [],
   "source": [
    "sc.pp.filter_cells(adata, min_genes=200) # filter cells with fewer than 200 genes\n",
    "sc.pp.filter_cells(adata, min_counts=200)  # This is a weaker threshold than above. It is just to population the n_counts column in adata\n",
    "sc.pp.filter_genes(adata, min_cells=3) # filter genes detected in fewer than 3 cells\n"
   ]
  },
  {
   "cell_type": "code",
   "execution_count": 61,
   "metadata": {},
   "outputs": [
    {
     "data": {
      "image/png": "[encoded data removed]",
      "text/plain": [
       "<Figure size 640x480 with 1 Axes>"
      ]
     },
     "metadata": {},
     "output_type": "display_data"
    }
   ],
   "source": [
    "## plot log10 # counts per cell\n",
    "plt.hist(np.log10(adata.obs['n_counts']), bins=100)\n",
    "_ = plt.xlabel('log10 Counts Per cell')\n",
    "_ = plt.ylabel('# Cells')"
   ]
  },
  {
   "cell_type": "markdown",
   "metadata": {},
   "source": [
    "## Save the scanpy object to a file. This file will be passed as input to cNMF"
   ]
  },
  {
   "cell_type": "code",
   "execution_count": 62,
   "metadata": {},
   "outputs": [],
   "source": [
    "count_adat_fn = 'example_PBMC/counts.h5ad'\n",
    "sc.write(count_adat_fn, adata)"
   ]
  },
  {
   "cell_type": "code",
   "execution_count": 67,
   "metadata": {},
   "outputs": [],
   "source": [
    "numiter=15 # Number of NMF replicates. Set this to a larger value ~200 for real data. We set this to a relatively low value here for illustration at a faster speed\n",
    "numhvgenes=1000 ## Number of over-dispersed genes to use for running the actual factorizations\n",
    "\n",
    "## Results will be saved to [output_directory]/[run_name] which in this example is example_PBMC/cNMF/pbmc_cNMF\n",
    "output_directory = 'example_PBMC'\n",
    "if not os.path.exists(output_directory):\n",
    "    os.mkdir(output_directory)\n",
    "run_name = 'pbmc_cNMF'\n",
    "\n",
    "## Specify the Ks to use as a space separated list in this case \"5 6 7 8 9 10\"\n",
    "Ks = np.arange(7,10)\n",
    "\n",
    "seed = 14 ## Specify a seed pseudorandom number generation for reproducibility\n",
    "\n",
    "## Path to the filtered counts dataset we output previously\n",
    "countfn = 'example_PBMC/counts.h5ad'"
   ]
  },
  {
   "cell_type": "code",
   "execution_count": 68,
   "metadata": {},
   "outputs": [],
   "source": [
    "## Initialize the cnmf object that will be used to run analyses\n",
    "cnmf_obj = cNMF(output_dir=output_directory, name=run_name)"
   ]
  },
  {
   "cell_type": "code",
   "execution_count": 69,
   "metadata": {},
   "outputs": [
    {
     "name": "stderr",
     "output_type": "stream",
     "text": [
      "/Users/dkotliar/mambaforge/envs/test_cnmf/lib/python3.10/site-packages/scanpy/preprocessing/_scale.py:317: UserWarning: Received a view of an AnnData. Making a copy.\n",
      "  view_to_actual(adata)\n"
     ]
    }
   ],
   "source": [
    "## Prepare the data, I.e. subset to 2000 high-variance genes, and variance normalize\n",
    "cnmf_obj.prepare(counts_fn=countfn, components=Ks, n_iter=numiter, seed=seed, num_highvar_genes=numhvgenes)"
   ]
  },
  {
   "cell_type": "code",
   "execution_count": 70,
   "metadata": {},
   "outputs": [
    {
     "name": "stdout",
     "output_type": "stream",
     "text": [
      "[Worker 0]. Starting task 0.\n",
      "[Worker 0]. Starting task 1.\n",
      "[Worker 0]. Starting task 2.\n",
      "[Worker 0]. Starting task 3.\n",
      "[Worker 0]. Starting task 4.\n",
      "[Worker 0]. Starting task 5.\n",
      "[Worker 0]. Starting task 6.\n",
      "[Worker 0]. Starting task 7.\n",
      "[Worker 0]. Starting task 8.\n",
      "[Worker 0]. Starting task 9.\n",
      "[Worker 0]. Starting task 10.\n",
      "[Worker 0]. Starting task 11.\n",
      "[Worker 0]. Starting task 12.\n",
      "[Worker 0]. Starting task 13.\n",
      "[Worker 0]. Starting task 14.\n",
      "[Worker 0]. Starting task 15.\n",
      "[Worker 0]. Starting task 16.\n",
      "[Worker 0]. Starting task 17.\n",
      "[Worker 0]. Starting task 18.\n",
      "[Worker 0]. Starting task 19.\n",
      "[Worker 0]. Starting task 20.\n",
      "[Worker 0]. Starting task 21.\n",
      "[Worker 0]. Starting task 22.\n",
      "[Worker 0]. Starting task 23.\n",
      "[Worker 0]. Starting task 24.\n",
      "[Worker 0]. Starting task 25.\n",
      "[Worker 0]. Starting task 26.\n",
      "[Worker 0]. Starting task 27.\n",
      "[Worker 0]. Starting task 28.\n",
      "[Worker 0]. Starting task 29.\n",
      "[Worker 0]. Starting task 30.\n",
      "[Worker 0]. Starting task 31.\n",
      "[Worker 0]. Starting task 32.\n",
      "[Worker 0]. Starting task 33.\n",
      "[Worker 0]. Starting task 34.\n",
      "[Worker 0]. Starting task 35.\n",
      "[Worker 0]. Starting task 36.\n",
      "[Worker 0]. Starting task 37.\n",
      "[Worker 0]. Starting task 38.\n",
      "[Worker 0]. Starting task 39.\n",
      "[Worker 0]. Starting task 40.\n",
      "[Worker 0]. Starting task 41.\n",
      "[Worker 0]. Starting task 42.\n",
      "[Worker 0]. Starting task 43.\n",
      "[Worker 0]. Starting task 44.\n"
     ]
    }
   ],
   "source": [
    "## Specify that the jobs are being distributed over a single worker (total_workers=1) and then launch that worker\n",
    "cnmf_obj.factorize(worker_i=0, total_workers=1)"
   ]
  },
  {
   "cell_type": "code",
   "execution_count": 71,
   "metadata": {},
   "outputs": [
    {
     "name": "stdout",
     "output_type": "stream",
     "text": [
      "Combining factorizations for k=7.\n",
      "Combining factorizations for k=8.\n",
      "Combining factorizations for k=9.\n"
     ]
    }
   ],
   "source": [
    "cnmf_obj.combine()"
   ]
  },
  {
   "cell_type": "code",
   "execution_count": 72,
   "metadata": {},
   "outputs": [
    {
     "data": {
      "image/png": "[encoded data removed]",
      "text/plain": [
       "<Figure size 600x400 with 2 Axes>"
      ]
     },
     "metadata": {},
     "output_type": "display_data"
    }
   ],
   "source": [
    "cnmf_obj.k_selection_plot(close_fig=False)"
   ]
  },
  {
   "cell_type": "code",
   "execution_count": 73,
   "metadata": {},
   "outputs": [],
   "source": [
    "selected_K = 7\n",
    "density_threshold = 0.1"
   ]
  },
  {
   "cell_type": "code",
   "execution_count": 74,
   "metadata": {},
   "outputs": [
    {
     "name": "stderr",
     "output_type": "stream",
     "text": [
      "/Users/dkotliar/mambaforge/envs/test_cnmf/lib/python3.10/site-packages/scanpy/preprocessing/_scale.py:317: UserWarning: Received a view of an AnnData. Making a copy.\n",
      "  view_to_actual(adata)\n"
     ]
    }
   ],
   "source": [
    "cnmf_obj.consensus(k=selected_K, density_threshold=density_threshold, show_clustering=False, close_clustergram_fig=False)"
   ]
  },
  {
   "cell_type": "code",
   "execution_count": 75,
   "metadata": {},
   "outputs": [],
   "source": [
    "selected_K = 8\n",
    "density_threshold = 0.1"
   ]
  },
  {
   "cell_type": "code",
   "execution_count": 76,
   "metadata": {},
   "outputs": [
    {
     "name": "stderr",
     "output_type": "stream",
     "text": [
      "/Users/dkotliar/mambaforge/envs/test_cnmf/lib/python3.10/site-packages/scanpy/preprocessing/_scale.py:317: UserWarning: Received a view of an AnnData. Making a copy.\n",
      "  view_to_actual(adata)\n"
     ]
    }
   ],
   "source": [
    "cnmf_obj.consensus(k=selected_K, density_threshold=density_threshold, show_clustering=False, close_clustergram_fig=False)"
   ]
  },
  {
   "cell_type": "code",
   "execution_count": 78,
   "metadata": {},
   "outputs": [
    {
     "name": "stdout",
     "output_type": "stream",
     "text": [
      "\u001b[34mcnmf_tmp\u001b[m\u001b[m\n",
      "pbmc_cNMF.gene_spectra_score.k_7.dt_0_1.txt\n",
      "pbmc_cNMF.gene_spectra_score.k_8.dt_0_1.txt\n",
      "pbmc_cNMF.gene_spectra_tpm.k_7.dt_0_1.txt\n",
      "pbmc_cNMF.gene_spectra_tpm.k_8.dt_0_1.txt\n",
      "pbmc_cNMF.k_selection.png\n",
      "pbmc_cNMF.k_selection_stats.df.npz\n",
      "pbmc_cNMF.overdispersed_genes.txt\n",
      "pbmc_cNMF.spectra.k_7.dt_0_1.consensus.txt\n",
      "pbmc_cNMF.spectra.k_8.dt_0_1.consensus.txt\n",
      "pbmc_cNMF.starcat_spectra.k_7.dt_0_1.txt\n",
      "pbmc_cNMF.starcat_spectra.k_8.dt_0_1.txt\n",
      "pbmc_cNMF.usages.k_7.dt_0_1.consensus.txt\n",
      "pbmc_cNMF.usages.k_8.dt_0_1.consensus.txt\n"
     ]
    }
   ],
   "source": [
    "! ls ./example_PBMC/pbmc_cNMF"
   ]
  },
  {
   "cell_type": "code",
   "execution_count": 79,
   "metadata": {},
   "outputs": [
    {
     "name": "stdout",
     "output_type": "stream",
     "text": [
      "counts.h5ad               \u001b[34mfiltered_gene_bc_matrices\u001b[m\u001b[m \u001b[34mpbmc_cNMF\u001b[m\u001b[m\n"
     ]
    }
   ],
   "source": [
    "! ls ./example_PBMC"
   ]
  },
  {
   "cell_type": "code",
   "execution_count": 80,
   "metadata": {},
   "outputs": [],
   "source": [
    "! rm -Rf ./example_PBMC/filtered_gene_bc_matrices/"
   ]
  },
  {
   "cell_type": "code",
   "execution_count": 81,
   "metadata": {},
   "outputs": [
    {
     "name": "stdout",
     "output_type": "stream",
     "text": [
      "a ./example_PBMC/counts.h5ad\n",
      "a ./example_PBMC/pbmc_cNMF\n",
      "a ./example_PBMC/pbmc_cNMF/pbmc_cNMF.k_selection.png\n",
      "a ./example_PBMC/pbmc_cNMF/pbmc_cNMF.gene_spectra_score.k_7.dt_0_1.txt\n",
      "a ./example_PBMC/pbmc_cNMF/pbmc_cNMF.k_selection_stats.df.npz\n",
      "a ./example_PBMC/pbmc_cNMF/pbmc_cNMF.overdispersed_genes.txt\n",
      "a ./example_PBMC/pbmc_cNMF/pbmc_cNMF.gene_spectra_score.k_8.dt_0_1.txt\n",
      "a ./example_PBMC/pbmc_cNMF/pbmc_cNMF.spectra.k_8.dt_0_1.consensus.txt\n",
      "a ./example_PBMC/pbmc_cNMF/pbmc_cNMF.spectra.k_7.dt_0_1.consensus.txt\n",
      "a ./example_PBMC/pbmc_cNMF/pbmc_cNMF.starcat_spectra.k_7.dt_0_1.txt\n",
      "a ./example_PBMC/pbmc_cNMF/cnmf_tmp\n",
      "a ./example_PBMC/pbmc_cNMF/pbmc_cNMF.usages.k_8.dt_0_1.consensus.txt\n",
      "a ./example_PBMC/pbmc_cNMF/pbmc_cNMF.gene_spectra_tpm.k_7.dt_0_1.txt\n",
      "a ./example_PBMC/pbmc_cNMF/pbmc_cNMF.usages.k_7.dt_0_1.consensus.txt\n",
      "a ./example_PBMC/pbmc_cNMF/pbmc_cNMF.starcat_spectra.k_8.dt_0_1.txt\n",
      "a ./example_PBMC/pbmc_cNMF/pbmc_cNMF.gene_spectra_tpm.k_8.dt_0_1.txt\n",
      "a ./example_PBMC/pbmc_cNMF/cnmf_tmp/pbmc_cNMF.spectra.k_7.merged.df.npz\n",
      "a ./example_PBMC/pbmc_cNMF/cnmf_tmp/pbmc_cNMF.spectra.k_9.iter_0.df.npz\n",
      "a ./example_PBMC/pbmc_cNMF/cnmf_tmp/pbmc_cNMF.spectra.k_8.iter_14.df.npz\n",
      "a ./example_PBMC/pbmc_cNMF/cnmf_tmp/pbmc_cNMF.spectra.k_7.iter_4.df.npz\n",
      "a ./example_PBMC/pbmc_cNMF/cnmf_tmp/pbmc_cNMF.tpm_stats.df.npz\n",
      "a ./example_PBMC/pbmc_cNMF/cnmf_tmp/pbmc_cNMF.nmf_idvrun_params.yaml\n",
      "a ./example_PBMC/pbmc_cNMF/cnmf_tmp/pbmc_cNMF.spectra.k_8.dt_0_1.consensus.df.npz\n",
      "a ./example_PBMC/pbmc_cNMF/cnmf_tmp/pbmc_cNMF.spectra.k_7.iter_14.df.npz\n",
      "a ./example_PBMC/pbmc_cNMF/cnmf_tmp/pbmc_cNMF.spectra.k_8.iter_9.df.npz\n",
      "a ./example_PBMC/pbmc_cNMF/cnmf_tmp/pbmc_cNMF.spectra.k_8.iter_5.df.npz\n",
      "a ./example_PBMC/pbmc_cNMF/cnmf_tmp/pbmc_cNMF.spectra.k_7.iter_8.df.npz\n",
      "a ./example_PBMC/pbmc_cNMF/cnmf_tmp/pbmc_cNMF.gene_spectra_tpm.k_8.dt_0_1.df.npz\n",
      "a ./example_PBMC/pbmc_cNMF/cnmf_tmp/pbmc_cNMF.spectra.k_7.dt_0_1.consensus.df.npz\n",
      "a ./example_PBMC/pbmc_cNMF/cnmf_tmp/pbmc_cNMF.spectra.k_8.iter_7.df.npz\n",
      "a ./example_PBMC/pbmc_cNMF/cnmf_tmp/pbmc_cNMF.spectra.k_7.iter_6.df.npz\n",
      "a ./example_PBMC/pbmc_cNMF/cnmf_tmp/pbmc_cNMF.spectra.k_9.iter_14.df.npz\n",
      "a ./example_PBMC/pbmc_cNMF/cnmf_tmp/pbmc_cNMF.local_density_cache.k_7.merged.df.npz\n",
      "a ./example_PBMC/pbmc_cNMF/cnmf_tmp/pbmc_cNMF.spectra.k_9.iter_2.df.npz\n",
      "a ./example_PBMC/pbmc_cNMF/cnmf_tmp/pbmc_cNMF.starcat_spectra.k_8.dt_0_1.df.npz\n",
      "a ./example_PBMC/pbmc_cNMF/cnmf_tmp/pbmc_cNMF.spectra.k_7.iter_12.df.npz\n",
      "a ./example_PBMC/pbmc_cNMF/cnmf_tmp/pbmc_cNMF.spectra.k_7.iter_2.df.npz\n",
      "a ./example_PBMC/pbmc_cNMF/cnmf_tmp/pbmc_cNMF.spectra.k_8.iter_3.df.npz\n",
      "a ./example_PBMC/pbmc_cNMF/cnmf_tmp/pbmc_cNMF.spectra.k_8.iter_12.df.npz\n",
      "a ./example_PBMC/pbmc_cNMF/cnmf_tmp/pbmc_cNMF.spectra.k_9.iter_6.df.npz\n",
      "a ./example_PBMC/pbmc_cNMF/cnmf_tmp/pbmc_cNMF.spectra.k_9.iter_10.df.npz\n",
      "a ./example_PBMC/pbmc_cNMF/cnmf_tmp/pbmc_cNMF.nmf_params.df.npz\n",
      "a ./example_PBMC/pbmc_cNMF/cnmf_tmp/pbmc_cNMF.spectra.k_9.iter_4.df.npz\n",
      "a ./example_PBMC/pbmc_cNMF/cnmf_tmp/pbmc_cNMF.spectra.k_8.iter_10.df.npz\n",
      "a ./example_PBMC/pbmc_cNMF/cnmf_tmp/pbmc_cNMF.spectra.k_9.iter_8.df.npz\n",
      "a ./example_PBMC/pbmc_cNMF/cnmf_tmp/pbmc_cNMF.norm_counts.h5ad\n",
      "a ./example_PBMC/pbmc_cNMF/cnmf_tmp/pbmc_cNMF.gene_spectra_score.k_7.dt_0_1.df.npz\n",
      "a ./example_PBMC/pbmc_cNMF/cnmf_tmp/pbmc_cNMF.spectra.k_9.iter_12.df.npz\n",
      "a ./example_PBMC/pbmc_cNMF/cnmf_tmp/pbmc_cNMF.spectra.k_8.iter_1.df.npz\n",
      "a ./example_PBMC/pbmc_cNMF/cnmf_tmp/pbmc_cNMF.spectra.k_9.merged.df.npz\n",
      "a ./example_PBMC/pbmc_cNMF/cnmf_tmp/pbmc_cNMF.spectra.k_7.iter_0.df.npz\n",
      "a ./example_PBMC/pbmc_cNMF/cnmf_tmp/pbmc_cNMF.spectra.k_7.iter_10.df.npz\n",
      "a ./example_PBMC/pbmc_cNMF/cnmf_tmp/pbmc_cNMF.gene_spectra_tpm.k_7.dt_0_1.df.npz\n",
      "a ./example_PBMC/pbmc_cNMF/cnmf_tmp/pbmc_cNMF.spectra.k_8.iter_8.df.npz\n",
      "a ./example_PBMC/pbmc_cNMF/cnmf_tmp/pbmc_cNMF.spectra.k_7.iter_5.df.npz\n",
      "a ./example_PBMC/pbmc_cNMF/cnmf_tmp/pbmc_cNMF.spectra.k_7.iter_9.df.npz\n",
      "a ./example_PBMC/pbmc_cNMF/cnmf_tmp/pbmc_cNMF.spectra.k_8.iter_4.df.npz\n",
      "a ./example_PBMC/pbmc_cNMF/cnmf_tmp/pbmc_cNMF.spectra.k_8.merged.df.npz\n",
      "a ./example_PBMC/pbmc_cNMF/cnmf_tmp/pbmc_cNMF.spectra.k_9.iter_1.df.npz\n",
      "a ./example_PBMC/pbmc_cNMF/cnmf_tmp/pbmc_cNMF.spectra.k_9.iter_3.df.npz\n",
      "a ./example_PBMC/pbmc_cNMF/cnmf_tmp/pbmc_cNMF.starcat_spectra.k_7.dt_0_1.df.npz\n",
      "a ./example_PBMC/pbmc_cNMF/cnmf_tmp/pbmc_cNMF.local_density_cache.k_8.merged.df.npz\n",
      "a ./example_PBMC/pbmc_cNMF/cnmf_tmp/pbmc_cNMF.spectra.k_8.iter_6.df.npz\n",
      "a ./example_PBMC/pbmc_cNMF/cnmf_tmp/pbmc_cNMF.spectra.k_7.iter_7.df.npz\n",
      "a ./example_PBMC/pbmc_cNMF/cnmf_tmp/pbmc_cNMF.spectra.k_9.iter_11.df.npz\n",
      "a ./example_PBMC/pbmc_cNMF/cnmf_tmp/pbmc_cNMF.tpm.h5ad\n",
      "a ./example_PBMC/pbmc_cNMF/cnmf_tmp/pbmc_cNMF.spectra.k_9.iter_7.df.npz\n",
      "a ./example_PBMC/pbmc_cNMF/cnmf_tmp/pbmc_cNMF.spectra.k_8.iter_13.df.npz\n",
      "a ./example_PBMC/pbmc_cNMF/cnmf_tmp/pbmc_cNMF.spectra.k_7.iter_3.df.npz\n",
      "a ./example_PBMC/pbmc_cNMF/cnmf_tmp/pbmc_cNMF.spectra.k_7.iter_13.df.npz\n",
      "a ./example_PBMC/pbmc_cNMF/cnmf_tmp/pbmc_cNMF.spectra.k_8.iter_2.df.npz\n",
      "a ./example_PBMC/pbmc_cNMF/cnmf_tmp/pbmc_cNMF.spectra.k_8.iter_0.df.npz\n",
      "a ./example_PBMC/pbmc_cNMF/cnmf_tmp/pbmc_cNMF.spectra.k_7.iter_11.df.npz\n",
      "a ./example_PBMC/pbmc_cNMF/cnmf_tmp/pbmc_cNMF.spectra.k_7.iter_1.df.npz\n",
      "a ./example_PBMC/pbmc_cNMF/cnmf_tmp/pbmc_cNMF.gene_spectra_score.k_8.dt_0_1.df.npz\n",
      "a ./example_PBMC/pbmc_cNMF/cnmf_tmp/pbmc_cNMF.spectra.k_9.iter_13.df.npz\n",
      "a ./example_PBMC/pbmc_cNMF/cnmf_tmp/pbmc_cNMF.usages.k_7.dt_0_1.consensus.df.npz\n",
      "a ./example_PBMC/pbmc_cNMF/cnmf_tmp/pbmc_cNMF.spectra.k_8.iter_11.df.npz\n",
      "a ./example_PBMC/pbmc_cNMF/cnmf_tmp/pbmc_cNMF.usages.k_8.dt_0_1.consensus.df.npz\n",
      "a ./example_PBMC/pbmc_cNMF/cnmf_tmp/pbmc_cNMF.spectra.k_9.iter_5.df.npz\n",
      "a ./example_PBMC/pbmc_cNMF/cnmf_tmp/pbmc_cNMF.spectra.k_9.iter_9.df.npz\n"
     ]
    }
   ],
   "source": [
    "! tar -czvf example_pbmc_results_20250301.tar.gz ./example_PBMC/*"
   ]
  },
  {
   "cell_type": "code",
   "execution_count": null,
   "metadata": {},
   "outputs": [],
   "source": []
  },
  {
   "cell_type": "code",
   "execution_count": null,
   "metadata": {},
   "outputs": [],
   "source": []
  },
  {
   "cell_type": "code",
   "execution_count": null,
   "metadata": {},
   "outputs": [],
   "source": []
  },
  {
   "cell_type": "code",
   "execution_count": null,
   "metadata": {},
   "outputs": [],
   "source": []
  }
 ],
 "metadata": {
  "kernelspec": {
   "display_name": "Python 3 (ipykernel)",
   "language": "python",
   "name": "python3"
  },
  "language_info": {
   "codemirror_mode": {
    "name": "ipython",
    "version": 3
   },
   "file_extension": ".py",
   "mimetype": "text/x-python",
   "name": "python",
   "nbconvert_exporter": "python",
   "pygments_lexer": "ipython3",
   "version": "3.10.16"
  }
 },
 "nbformat": 4,
 "nbformat_minor": 4
}
