{
 "cells": [
  {
   "cell_type": "markdown",
   "metadata": {
    "toc": "true"
   },
   "source": [
    "# Table of Contents\n",
    " <p><div class=\"lev1\"><a href=\"#Imports\"><span class=\"toc-item-num\">1&nbsp;&nbsp;</span>Imports</a></div><div class=\"lev1\"><a href=\"#Load-dataset-with-tine-annotations-(E-day)\"><span class=\"toc-item-num\">2&nbsp;&nbsp;</span>Load dataset with tine annotations (E-day)</a></div><div class=\"lev1\"><a href=\"#Select-mOMTN\"><span class=\"toc-item-num\">3&nbsp;&nbsp;</span>Select mOMTN</a></div><div class=\"lev1\"><a href=\"#Select-variable-genes\"><span class=\"toc-item-num\">4&nbsp;&nbsp;</span>Select variable genes</a></div><div class=\"lev1\"><a href=\"#Perform-a-likelihood-ratio-test\"><span class=\"toc-item-num\">5&nbsp;&nbsp;</span>Perform a likelihood ratio test</a></div><div class=\"lev2\"><a href=\"#Define-functions\"><span class=\"toc-item-num\">5.1&nbsp;&nbsp;</span>Define functions</a></div><div class=\"lev2\"><a href=\"#Test-Significance\"><span class=\"toc-item-num\">5.2&nbsp;&nbsp;</span>Test Significance</a></div><div class=\"lev1\"><a href=\"#Consider-the-subspace\"><span class=\"toc-item-num\">6&nbsp;&nbsp;</span>Consider the subspace</a></div><div class=\"lev1\"><a href=\"#Pseudotime-using-principal-curve\"><span class=\"toc-item-num\">7&nbsp;&nbsp;</span>Pseudotime using principal curve</a></div><div class=\"lev2\"><a href=\"#Infer-missing-values-using-the-correlation-structure\"><span class=\"toc-item-num\">7.1&nbsp;&nbsp;</span>Infer missing values using the correlation structure</a></div><div class=\"lev2\"><a href=\"#Fit-a-curve-for-every-gene\"><span class=\"toc-item-num\">7.2&nbsp;&nbsp;</span>Fit a curve for every gene</a></div><div class=\"lev1\"><a href=\"#Cluster-the-profiles-to-obtain-prototypical-dynamics\"><span class=\"toc-item-num\">8&nbsp;&nbsp;</span>Cluster the profiles to obtain prototypical dynamics</a></div><div class=\"lev1\"><a href=\"#Plot-some-examples\"><span class=\"toc-item-num\">9&nbsp;&nbsp;</span>Plot some examples</a></div>"
   ]
  },
  {
   "cell_type": "markdown",
   "metadata": {},
   "source": [
    "# Imports"
   ]
  },
  {
   "cell_type": "code",
   "execution_count": 1,
   "metadata": {
    "collapsed": false,
    "run_control": {
     "frozen": false,
     "read_only": false
    }
   },
   "outputs": [
    {
     "name": "stdout",
     "output_type": "stream",
     "text": [
      "Populating the interactive namespace from numpy and matplotlib\n"
     ]
    }
   ],
   "source": [
    "%pylab inline"
   ]
  },
  {
   "cell_type": "code",
   "execution_count": 2,
   "metadata": {
    "collapsed": false,
    "run_control": {
     "frozen": false,
     "read_only": false
    }
   },
   "outputs": [],
   "source": [
    "import pandas as pd\n",
    "from Cef_tools import *\n",
    "from backSPIN import fit_CV\n",
    "import statsmodels.formula.api as smf\n",
    "import statsmodels.api as sm\n",
    "from statsmodels.sandbox.stats.multicomp import multipletests\n",
    "from scipy import stats\n",
    "import rpy2.robjects as robj\n",
    "from rpy2.robjects.packages import importr\n",
    "from rpy2.robjects.vectors import DataFrame, FloatVector\n",
    "from sklearn.linear_model import Lasso\n",
    "from sklearn.grid_search import GridSearchCV\n",
    "from sklearn.cross_validation import ShuffleSplit\n",
    "from sklearn.cluster import AffinityPropagation\n",
    "from sklearn.svm import SVR"
   ]
  },
  {
   "cell_type": "code",
   "execution_count": 3,
   "metadata": {
    "collapsed": true,
    "run_control": {
     "frozen": false,
     "read_only": false
    }
   },
   "outputs": [],
   "source": [
    "def principal_curve(X, pca=True):\n",
    "    \"\"\"\n",
    "    input : numpy.array\n",
    "    returns:\n",
    "    Result::Object\n",
    "        Methods:\n",
    "        projections - the matrix of the projectiond\n",
    "        ixsort - the order ot the points (as in argsort)\n",
    "        arclength - the lenght of the arc from the beginning to the point\n",
    "    \"\"\"\n",
    "    # convert array to R matrix\n",
    "    xr = array_to_rmatrix(X)\n",
    "    \n",
    "    if pca:\n",
    "        #perform pca\n",
    "        t = robj.r.prcomp(xr)\n",
    "        #determine dimensionality reduction\n",
    "        usedcomp = max( sum( np.array(t[t.names.index('sdev')]) > 1.1) , 4)\n",
    "        usedcomp = min([usedcomp, sum( np.array(t[t.names.index('sdev')]) > 0.25), X.shape[0]])\n",
    "        Xpc = np.array(t[t.names.index('x')])[:,:usedcomp]\n",
    "        # convert array to R matrix\n",
    "        xr = array_to_rmatrix(Xpc)\n",
    "\n",
    "    #import the correct namespace\n",
    "    princurve = importr(\"princurve\")\n",
    "    \n",
    "    #call the function\n",
    "    fit1 = princurve.principal_curve(xr)\n",
    "    \n",
    "    #extract the outputs\n",
    "    class Results:\n",
    "        pass\n",
    "    results = Results()\n",
    "    results.projections = np.array( fit1[0] )\n",
    "    results.ixsort = np.array( fit1[1] ) - 1 # R is 1 indexed\n",
    "    results.arclength = np.array( fit1[2] )\n",
    "    results.dist = np.array( fit1[3] )\n",
    "    \n",
    "    if pca:\n",
    "        results.PCs = np.array(xr) #only the used components\n",
    "        \n",
    "    return results\n",
    "\n",
    "def array_to_rmatrix(X):\n",
    "    nr, nc = X.shape\n",
    "    xvec = robj.FloatVector(X.transpose().reshape((X.size)))\n",
    "    xr = robj.r.matrix(xvec, nrow=nr, ncol=nc)\n",
    "    return xr"
   ]
  },
  {
   "cell_type": "markdown",
   "metadata": {},
   "source": [
    "# Load dataset with tine annotations (E-day)"
   ]
  },
  {
   "cell_type": "code",
   "execution_count": 4,
   "metadata": {
    "collapsed": true,
    "run_control": {
     "frozen": false,
     "read_only": false
    }
   },
   "outputs": [],
   "source": [
    "df, rows_annot, cols_annot, _ = cef2df('data/Mouse_Embryo_fulldataset.cef')"
   ]
  },
  {
   "cell_type": "code",
   "execution_count": 5,
   "metadata": {
    "collapsed": false,
    "run_control": {
     "frozen": false,
     "read_only": false
    }
   },
   "outputs": [
    {
     "data": {
      "text/plain": [
       "array(['E11.5', 'E12.5', 'E13.5', 'E14.5', 'E15.5', 'E18.5'], dtype=object)"
      ]
     },
     "execution_count": 5,
     "metadata": {},
     "output_type": "execute_result"
    }
   ],
   "source": [
    "order_eday, Eday_ix = unique( cols_annot.ix['Timepoint'].values, return_inverse=True )\n",
    "order_eday"
   ]
  },
  {
   "cell_type": "markdown",
   "metadata": {},
   "source": [
    "# Select mOMTN"
   ]
  },
  {
   "cell_type": "code",
   "execution_count": 6,
   "metadata": {
    "collapsed": false,
    "run_control": {
     "frozen": false,
     "read_only": false
    }
   },
   "outputs": [],
   "source": [
    "bool_sel = (cols_annot.ix['Cell_type'] == 'mOMTN').values\n",
    "df = df.ix[:, bool_sel]\n",
    "Eday_ix = Eday_ix[bool_sel]"
   ]
  },
  {
   "cell_type": "code",
   "execution_count": 7,
   "metadata": {
    "collapsed": false,
    "run_control": {
     "frozen": false,
     "read_only": false
    }
   },
   "outputs": [],
   "source": [
    "df = df.ix[df.sum(1) > 9, :]"
   ]
  },
  {
   "cell_type": "markdown",
   "metadata": {},
   "source": [
    "# Select variable genes"
   ]
  },
  {
   "cell_type": "code",
   "execution_count": 8,
   "metadata": {
    "collapsed": false,
    "run_control": {
     "frozen": false,
     "read_only": false
    }
   },
   "outputs": [
    {
     "data": {
      "image/png": "[encoded data removed]",
      "text/plain": [
       "<matplotlib.figure.Figure at 0x12a137fd0>"
      ]
     },
     "metadata": {},
     "output_type": "display_data"
    }
   ],
   "source": [
    "thrs = 5000\n",
    "\n",
    "#Pre-filtering\n",
    "df_f = df.copy()\n",
    "df_f = df_f.ix[sum(df_f>=1, 1)>=5,:] # is at least 1 in X cells\n",
    "df_f = df_f.ix[sum(df_f>=2, 1)>=2,:] # is at least 2 in X cells\n",
    "\n",
    "#Fitting\n",
    "mu = df_f.mean(1).values\n",
    "sigma = df_f.std(1, ddof=1).values\n",
    "cv = sigma/mu\n",
    "score, mu_linspace, cv_fit , params = fit_CV(mu,cv, 'SVR')\n",
    "\n",
    "#Plotting\n",
    "figure()\n",
    "scatter(log2(mu),log2(cv), marker='o', edgecolor ='none',alpha=0.1, s=5)\n",
    "mu_sorted = mu[argsort(score)[::-1]]\n",
    "cv_sorted = cv[argsort(score)[::-1]]\n",
    "scatter(log2(mu_sorted[:thrs]),log2(cv_sorted[:thrs]), marker='o', edgecolor ='none',alpha=0.15, s=8, c='r')\n",
    "plot(mu_linspace, cv_fit,'-k', linewidth=1, label='$Fit$')\n",
    "plot(linspace(-9,7), -0.5*linspace(-9,7), '-r', label='$Poisson$')\n",
    "#Adjusting plot\n",
    "ylabel('log2 CV')\n",
    "xlabel('log2 mean')\n",
    "grid(alpha=0.3)\n",
    "xlim(-5.,7)\n",
    "ylim(-2,6.5)\n",
    "legend(loc=1, fontsize='small')\n",
    "gca().set_aspect(1.2)\n",
    "\n",
    "#Confirm Selection\n",
    "df = df_f.ix[argsort(score)[::-1],:].ix[:thrs,:]\n",
    "del df_f"
   ]
  },
  {
   "cell_type": "code",
   "execution_count": 9,
   "metadata": {
    "collapsed": false,
    "run_control": {
     "frozen": false,
     "read_only": false
    }
   },
   "outputs": [],
   "source": [
    "# normalize\n",
    "df_log = log2( df +1)\n",
    "df_norm = df_log.subtract(df_log.mean(1), axis='rows')"
   ]
  },
  {
   "cell_type": "markdown",
   "metadata": {},
   "source": [
    "# Perform a likelihood ratio test\n",
    "   To test wether a gene has some variability over the time points comparing:\n",
    " - A GLM with a Negative binomial link function and time (E-day) as a categorical predictor \n",
    " \n",
    " against\n",
    " \n",
    " \n",
    " - The null model that fits the data to a single nagative binomial distribution without taking time into account"
   ]
  },
  {
   "cell_type": "markdown",
   "metadata": {},
   "source": [
    "## Define functions"
   ]
  },
  {
   "cell_type": "code",
   "execution_count": 10,
   "metadata": {
    "collapsed": true,
    "run_control": {
     "frozen": false,
     "read_only": false
    }
   },
   "outputs": [],
   "source": [
    "def test_significance(df, group, family='NegativeBinomial', FDR_corrected=True):\n",
    "    \"\"\"\n",
    "    df is a standard [genes,cells] pd.Dataframe\n",
    "    groups is a vector of len = df.shape[1]\n",
    "    \"\"\"\n",
    "    dfk = df.copy()\n",
    "    \n",
    "    p_values = []\n",
    "    dfk.index = [ 'var'+str(i).zfill(5) for i in range(len(dfk.index))]\n",
    "    for i, gene in enumerate(dfk.index):\n",
    "        p_values.append( likelihood_ratio_test(dfk, group, gene, family=getattr(sm.families,family)() ) )\n",
    "        if i % 100 == 0:\n",
    "            print i,\n",
    "    \n",
    "    p_values = array(p_values)\n",
    "    if FDR_corrected:\n",
    "        q_values = multipletests(p_values, 0.5, 'fdr_bh')[1]\n",
    "        print 'Returning q-values'\n",
    "        return q_values\n",
    "    else:    \n",
    "        return p_values\n",
    "    \n",
    "def likelihood_ratio_test(df, group, gene, family):\n",
    "    \"\"\" Performs a likelihood ratio test\n",
    "    df is a standard [genes,cells] pd.Dataframe\n",
    "    groups is a vector of len = df.shape[1]\n",
    "    \"\"\"\n",
    "    assert len(group) == df.shape[1], 'groups and df have not compatible shape'\n",
    "    expression = df.T\n",
    "    expression['Groups'] = group\n",
    "    \n",
    "    #Fit the full and the restricted model\n",
    "\n",
    "    model_full = smf.glm('%s ~ C(Groups)' % gene , family=family, data=expression)\n",
    "    model_res = smf.glm('%s ~ 1' % gene , family=family, data=expression)\n",
    "    results_full = model_full.fit()\n",
    "    results_res = model_res.fit()\n",
    "    \n",
    "    lrdf = (results_res.df_resid - results_full.df_resid) #degrees of freedom\n",
    "    lrstat = -2*(results_res.llf - results_full.llf) # test statistics, using the log likelihood\n",
    "    lr_pvalue = stats.chi2.sf(lrstat, df=lrdf) #perform statistic test\n",
    "    \n",
    "    return lr_pvalue"
   ]
  },
  {
   "cell_type": "markdown",
   "metadata": {},
   "source": [
    "## Test Significance"
   ]
  },
  {
   "cell_type": "code",
   "execution_count": 11,
   "metadata": {
    "collapsed": false,
    "run_control": {
     "frozen": false,
     "read_only": false
    }
   },
   "outputs": [
    {
     "name": "stdout",
     "output_type": "stream",
     "text": [
      "0 100 200 300 400 500 600 700 800 900 1000 1100 1200 1300 1400 1500 1600 1700 1800 1900 2000 2100 2200 2300 2400 2500 2600 2700 2800 2900 3000 3100 3200 3300 3400 3500 3600 3700 3800 3900 4000 4100 4200 4300 4400 4500 4600 4700 4800 4900 Returning q-values\n"
     ]
    }
   ],
   "source": [
    "q_values = test_significance(df, Eday_ix, family='NegativeBinomial', FDR_corrected=True)"
   ]
  },
  {
   "cell_type": "code",
   "execution_count": 12,
   "metadata": {
    "collapsed": false,
    "run_control": {
     "frozen": false,
     "read_only": false
    }
   },
   "outputs": [
    {
     "data": {
      "text/plain": [
       "380"
      ]
     },
     "execution_count": 12,
     "metadata": {},
     "output_type": "execute_result"
    }
   ],
   "source": [
    "sum( q_values<0.1 )"
   ]
  },
  {
   "cell_type": "markdown",
   "metadata": {},
   "source": [
    "# Consider the subspace\n",
    "- that includes only the genes that have significant variation over time\n",
    "- excluding genes that are marker of other cell types\n",
    "(to avoid the genes variable because of a contamination event)"
   ]
  },
  {
   "cell_type": "code",
   "execution_count": 13,
   "metadata": {
    "collapsed": true,
    "run_control": {
     "frozen": false,
     "read_only": false
    }
   },
   "outputs": [],
   "source": [
    "df_sign_genes = df.ix[q_values<0.1,:]\n",
    "df_sign_genes_norm = df_norm.ix[q_values<0.1,:]"
   ]
  },
  {
   "cell_type": "code",
   "execution_count": 14,
   "metadata": {
    "collapsed": false,
    "run_control": {
     "frozen": false,
     "read_only": false
    }
   },
   "outputs": [],
   "source": [
    "pattern_df = pd.read_csv('data/Mouse_binary.tsv',sep='\\t', index_col=0)\n",
    "\n",
    "bool1 = (pattern_df.ix[:,'mOMTN'] & (pattern_df.sum(1) < 4) & \n",
    "         ~(pattern_df.ix[:,'mEndo'])).values\n",
    "\n",
    "cleaned_list = list(set(df_sign_genes.index.tolist()) & set(pattern_df.index[bool1]) )"
   ]
  },
  {
   "cell_type": "code",
   "execution_count": 15,
   "metadata": {
    "collapsed": false,
    "run_control": {
     "frozen": false,
     "read_only": false
    }
   },
   "outputs": [],
   "source": [
    "df_sign_genes = df_sign_genes.ix[cleaned_list,:]\n",
    "df_sign_genes_norm = df_sign_genes_norm.ix[cleaned_list,:]"
   ]
  },
  {
   "cell_type": "markdown",
   "metadata": {},
   "source": [
    "# Pseudotime using principal curve"
   ]
  },
  {
   "cell_type": "code",
   "execution_count": 16,
   "metadata": {
    "collapsed": false,
    "run_control": {
     "frozen": false,
     "read_only": false
    }
   },
   "outputs": [
    {
     "name": "stdout",
     "output_type": "stream",
     "text": [
      "4\n"
     ]
    }
   ],
   "source": [
    "res = principal_curve(df_sign_genes_norm.T.values)\n",
    "print res.PCs.shape[1]"
   ]
  },
  {
   "cell_type": "markdown",
   "metadata": {},
   "source": [
    "## Infer missing values using the correlation structure\n",
    "(from the rest of the transcriptome)"
   ]
  },
  {
   "cell_type": "code",
   "execution_count": 17,
   "metadata": {
    "collapsed": true,
    "run_control": {
     "frozen": false,
     "read_only": false
    }
   },
   "outputs": [],
   "source": [
    "def infer_gene(df, gene,verbose=False, **kwargs):\n",
    "    lasso = Lasso(**kwargs)\n",
    "    X = df.ix[df.index !=gene,:].values.T.astype(float)\n",
    "    y = df.ix[gene].values.T.astype(float)\n",
    "    results = lasso.fit(X, y)\n",
    "    if verbose:\n",
    "        print sum( abs( results.coef_ ) > 0.05),\n",
    "    return lasso.predict(X)\n",
    "\n",
    "def gene_inference(df,gene_list,verbose,**kwargs):\n",
    "    return pd.DataFrame(data=[infer_gene(df,gene, verbose, **kwargs) for gene in gene_list  ], index = gene_list, columns=df.columns)"
   ]
  },
  {
   "cell_type": "code",
   "execution_count": 18,
   "metadata": {
    "collapsed": false,
    "run_control": {
     "frozen": false,
     "read_only": false
    },
    "scrolled": true
   },
   "outputs": [
    {
     "name": "stdout",
     "output_type": "stream",
     "text": [
      "11 6 5 4 21 12 7 3 11 6 8 14 2 13 10 21 12 16 6 10 12 9 1 8 2 5 4 7 5 10 2 17 17 2 4 4 11 12 15 6 25 2 3 2 2 4 6 7 5 2 10 10 9 4 5 4 5 3 1 11 5 3 7 6 5 11 10 14 11 3 11 7 22 8 10 13 2 7 4 7 26 8 9 13 5 9 5 9 1 2 1 2 4 5 11 0 8 6 11 8 9 5 11 1 12 2 1 3 2 9 11 13 6 1 13 1 4 5 2 13 8 16 13 5 6 4 11 4 6 3 2 1 4 4 5 2 6 4 4 12 16 4 4 7 14 2 5 15 9 2 11 2 6 2 9 4 5 1 4 2 17 11 1 4 1 6 2 1 5 4 2 2 5 5 3 2 4 15 2 7 3 2 10 15 8 8 2 4 6 5 5 2 1 6 3 6 7 1 3 3 5 4 12 11 9 9 15 7 10 5 6 3 13 4 3 2 6 3 4 2 7 9 3 6 7 3 4 5 12 7 12 3 4 0 8 3 1 1 7 6 6 9 4 2 4 7 10 6 3 5 2 4 4 4 2 5 5 13 2 4 6 4 4 3 12 1 0 2 0 4 10 3 10 3 5 3 1 3 3 8 7 2 2 8 10 4 3 5 18 6 5 11 5 1 2 2 2 8 5 2 0 9 1 5 10 6 2 3 3 2 1 4 0 1 3 5 0 6 3 9 4 13 1 1 1 2 11 5 3 6 2 3 4 2 1 2 5 3 6 4 3 6 1 3 3 7 2 4 5 10 1 1 8 8 0 1 2 2 2 3 4 5 1 11 4 0 2 0 9 1 4 7 2 0 7 3 11 4 3 3\n"
     ]
    }
   ],
   "source": [
    "#Include all the genes and repeat inference\n",
    "df_sign_genes_norm = df_norm.ix[q_values<0.1,:]\n",
    "\n",
    "df_sign_genes_norm_inferred =gene_inference(df_sign_genes_norm,\\\n",
    "                                            df_sign_genes_norm.index.values.tolist(),verbose=True, alpha=0.1)\n",
    "#WITHOUT INCLUDING\n",
    "sorted_df_norm_temp = df_sign_genes_norm_inferred.ix[:,res.ixsort[::-1]].T\n",
    "sorted_df_norm_temp['Pseudotime'] =  max(res.arclength) - res.arclength[res.ixsort[::-1]]\n",
    "sorted_df_norm_pseudotime = sorted_df_norm_temp"
   ]
  },
  {
   "cell_type": "markdown",
   "metadata": {
    "collapsed": false,
    "run_control": {
     "frozen": false,
     "read_only": false
    }
   },
   "source": [
    "## Fit a curve for every gene"
   ]
  },
  {
   "cell_type": "code",
   "execution_count": 19,
   "metadata": {
    "collapsed": false,
    "run_control": {
     "frozen": false,
     "read_only": false
    }
   },
   "outputs": [
    {
     "data": {
      "text/plain": [
       "Counter({0: 19, 1: 13, 2: 17, 3: 7, 4: 9, 5: 1})"
      ]
     },
     "execution_count": 19,
     "metadata": {},
     "output_type": "execute_result"
    }
   ],
   "source": [
    "from collections import Counter\n",
    "Counter(Eday_ix)"
   ]
  },
  {
   "cell_type": "code",
   "execution_count": 21,
   "metadata": {
    "collapsed": false,
    "run_control": {
     "frozen": false,
     "read_only": false
    }
   },
   "outputs": [],
   "source": [
    "lin = linspace(0,max(sorted_df_norm_pseudotime.Pseudotime),400)\n",
    "predictions_df = pd.DataFrame()\n",
    "R2_df = {}\n",
    "for i in sorted_df_norm_pseudotime:\n",
    "    svr = GridSearchCV(SVR(kernel='rbf'), cv=ShuffleSplit(len(Eday_ix), test_size=0.5,n_iter=8),\\\n",
    "                       param_grid={\"C\": [1,2,5,7],\\\n",
    "                                   \"gamma\": linspace(0.001,0.004,6)})\n",
    "    svr.fit(sorted_df_norm_pseudotime.ix[:, 'Pseudotime'].values[:,newaxis], sorted_df_norm_pseudotime.ix[:, i].values)\n",
    "    R2 = svr.score(sorted_df_norm_pseudotime.ix[:, 'Pseudotime'].values[:,newaxis], sorted_df_norm_pseudotime.ix[:, i].values)\n",
    "    if R2 >0.35:\n",
    "        predictions_df[i] = svr.predict(lin[:,newaxis])\n",
    "        R2_df[i] = R2"
   ]
  },
  {
   "cell_type": "code",
   "execution_count": 22,
   "metadata": {
    "collapsed": false,
    "run_control": {
     "frozen": false,
     "read_only": false
    }
   },
   "outputs": [],
   "source": [
    "predictions = predictions_df.values"
   ]
  },
  {
   "cell_type": "code",
   "execution_count": 23,
   "metadata": {
    "collapsed": true,
    "run_control": {
     "frozen": false,
     "read_only": false
    }
   },
   "outputs": [],
   "source": [
    "predictions = predictions - predictions.min(0)\n",
    "predictions = predictions / predictions.mean(0)"
   ]
  },
  {
   "cell_type": "code",
   "execution_count": 24,
   "metadata": {
    "collapsed": false,
    "run_control": {
     "frozen": false,
     "read_only": false
    }
   },
   "outputs": [
    {
     "data": {
      "image/png": "[encoded data removed]",
      "text/plain": [
       "<matplotlib.figure.Figure at 0x1197f8250>"
      ]
     },
     "metadata": {},
     "output_type": "display_data"
    }
   ],
   "source": [
    "# quick visualization of 100 exaples of fit\n",
    "for i in range(100):\n",
    "    plot( predictions[:,i], alpha=0.1 )"
   ]
  },
  {
   "cell_type": "markdown",
   "metadata": {},
   "source": [
    "# Cluster the profiles to obtain prototypical dynamics"
   ]
  },
  {
   "cell_type": "code",
   "execution_count": 25,
   "metadata": {
    "collapsed": false,
    "run_control": {
     "frozen": false,
     "read_only": false
    }
   },
   "outputs": [
    {
     "data": {
      "text/plain": [
       "2"
      ]
     },
     "execution_count": 25,
     "metadata": {},
     "output_type": "execute_result"
    }
   ],
   "source": [
    "ap = AffinityPropagation(damping=0.8, max_iter=500,\\\n",
    "                         convergence_iter=30, copy=True,\\\n",
    "                         preference=-400, affinity='euclidean')\n",
    "labels = ap.fit_predict(predictions.T )\n",
    "len( set( labels ) )"
   ]
  },
  {
   "cell_type": "code",
   "execution_count": 26,
   "metadata": {
    "collapsed": false,
    "run_control": {
     "frozen": false,
     "read_only": false
    }
   },
   "outputs": [
    {
     "data": {
      "image/png": "[encoded data removed]",
      "text/plain": [
       "<matplotlib.figure.Figure at 0x119dbfb90>"
      ]
     },
     "metadata": {},
     "output_type": "display_data"
    }
   ],
   "source": [
    "from scipy import stats\n",
    "fig = figure(figsize(10,4.5*len(set(labels)) /3.))\n",
    "l_set = array( list(set(labels)) )\n",
    "for n,i in enumerate( l_set[argsort([sum(labels==k) for k in  l_set])[::-1]] ):\n",
    "    subplot(int( ceil( len(set(labels)) /3.)), 3, n+1)\n",
    "    y = predictions[:,labels == i].flatten()\n",
    "    mean_y = mean( predictions[:,labels == i], 1)\n",
    "    x = repeat(lin,sum(labels == i) )\n",
    "    X, Y = mgrid[min(x)-1:max(x)+1:40j, min(y)-0.1:max(y)+0.1:40j]\n",
    "    positions = vstack([X.ravel(), Y.ravel()])\n",
    "    values = vstack([x,y])\n",
    "    kernel = stats.gaussian_kde(values)\n",
    "    Z = reshape(kernel(positions).T, X.shape)\n",
    "    contour(X,Y,Z,10, colors=[(j,)*3 for j in linspace(0.6,0.9,8)[::-1]])\n",
    "    plot(lin, mean_y, c='r', lw=2.5)\n",
    "    xlabel('Pseudotime (a.u.)')\n",
    "    ylabel('Expression (a.u.)')\n",
    "    grid(alpha=0.2)\n",
    "    title('Pattern %i' % (n+1), fontdict={'size':14,'weight':'semibold'})\n",
    "tight_layout()"
   ]
  },
  {
   "cell_type": "code",
   "execution_count": 27,
   "metadata": {
    "collapsed": false,
    "run_control": {
     "frozen": false,
     "read_only": false
    }
   },
   "outputs": [],
   "source": [
    "genes_by_pattern = [predictions_df.columns[ labels==i ].tolist() for i in l_set[argsort([sum(labels==k) for k in  l_set])[::-1]]]"
   ]
  },
  {
   "cell_type": "markdown",
   "metadata": {},
   "source": [
    "# Plot some examples"
   ]
  },
  {
   "cell_type": "code",
   "execution_count": 28,
   "metadata": {
    "collapsed": true,
    "run_control": {
     "frozen": false,
     "read_only": false
    }
   },
   "outputs": [],
   "source": [
    "def adjust_spines(ax, spines):\n",
    "    for loc, spine in ax.spines.items():\n",
    "        if loc in spines:\n",
    "            #spine.set_position(('outward', 10))  # outward by 10 points\n",
    "            #spine.set_smart_bounds(True)\n",
    "            pass\n",
    "        else:\n",
    "            spine.set_color('none')  # don't draw spine\n",
    "\n",
    "    # turn off ticks where there is no spine\n",
    "    if 'left' in spines:\n",
    "        ax.yaxis.set_ticks_position('left')\n",
    "    else:\n",
    "        # no yaxis ticks\n",
    "        ax.yaxis.set_ticks([])\n",
    "\n",
    "    if 'bottom' in spines:\n",
    "        ax.xaxis.set_ticks_position('bottom')\n",
    "    else:\n",
    "        # no xaxis ticks\n",
    "        ax.xaxis.set_ticks([])"
   ]
  },
  {
   "cell_type": "code",
   "execution_count": 29,
   "metadata": {
    "collapsed": true,
    "run_control": {
     "frozen": false,
     "read_only": false
    }
   },
   "outputs": [],
   "source": [
    "color_list = [(231,47,39),(255,200,8),(19,166,50),(1,124,141),(1,84,201), (43,56,86)]"
   ]
  },
  {
   "cell_type": "code",
   "execution_count": 31,
   "metadata": {
    "collapsed": false,
    "run_control": {
     "frozen": false,
     "read_only": false
    }
   },
   "outputs": [
    {
     "data": {
      "image/png": "[encoded data removed]",
      "text/plain": [
       "<matplotlib.figure.Figure at 0x119572a10>"
      ]
     },
     "metadata": {},
     "output_type": "display_data"
    }
   ],
   "source": [
    "gene_toplot = [ 'Pvalb', 'Esrrb'] \n",
    "figure(figsize=(6,2.4))\n",
    "for n, gene in enumerate(array(gene_toplot)[argsort([R2_df[j] for j in gene_toplot])[::-1]]):\n",
    "    subplot(int(ceil( len(gene_toplot) / 2.)), 2, n+1)\n",
    "    plot(lin, predictions_df.ix[:,gene], '-k', linewidth=2.5, zorder=-1)\n",
    "    scatter(sorted_df_norm_pseudotime.Pseudotime,\\\n",
    "            sorted_df_norm_pseudotime[gene],\n",
    "            c=array(color_list)[Eday_ix[res.ixsort[::-1]],:]/255., s=40,alpha=0.7,lw=0.2, zorder=100)\n",
    "    text(0.2,0.92,r'$R^2 = %.2f$' % R2_df[gene], ha='center', va='center',transform = gca().transAxes,\\\n",
    "         fontdict={'weight':'semibold', 'size':'12', 'family':'Times'})\n",
    "    title(gene, size=15, weight='semibold')\n",
    "    adjust_spines(gca(), ['left', 'bottom'])\n",
    "    gca().yaxis.set_tick_params(labelsize=8)\n",
    "    gca().xaxis.set_tick_params(labelbottom='off')\n",
    "    xlim([0-0.5,ceil(max(lin))])\n",
    "    ylim(percentile(sorted_df_norm_pseudotime[gene], 0.5)-0.15,percentile(sorted_df_norm_pseudotime[gene]*1.1, 99.9))\n",
    "    xlabel('Pseudotime')\n",
    "    ylabel('Expression ($log_2$)')\n",
    "    #grid(alpha=0.2)\n",
    "tight_layout()"
   ]
  }
 ],
 "metadata": {
  "kernelspec": {
   "display_name": "Python 2",
   "language": "python",
   "name": "python2"
  },
  "language_info": {
   "codemirror_mode": {
    "name": "ipython",
    "version": 2
   },
   "file_extension": ".py",
   "mimetype": "text/x-python",
   "name": "python",
   "nbconvert_exporter": "python",
   "pygments_lexer": "ipython2",
   "version": "2.7.12"
  },
  "toc": {
   "toc_cell": true,
   "toc_number_sections": true,
   "toc_section_display": "none",
   "toc_threshold": 6,
   "toc_window_display": true
  }
 },
 "nbformat": 4,
 "nbformat_minor": 0
}
