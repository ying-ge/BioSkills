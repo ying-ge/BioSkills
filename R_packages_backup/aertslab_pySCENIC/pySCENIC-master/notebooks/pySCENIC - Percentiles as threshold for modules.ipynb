{
 "cells": [
  {
   "cell_type": "markdown",
   "metadata": {},
   "source": [
    "__Author:__ Bram Van de Sande\n",
    "\n",
    "__Date:__ 20 APR 2018\n",
    "\n",
    "__Outline:__ To make the pySCENIC code more robust to the selection of the network inference method in the first step of\n",
    "the pipeline, the default values for weight thresholds should not be absolute (i.e. 0.001 or 0.005) but percentile based.\n",
    "\n",
    "As example we're using the example run used in the tutorial of the R version of SCENIC."
   ]
  },
  {
   "cell_type": "code",
   "execution_count": 1,
   "metadata": {},
   "outputs": [],
   "source": [
    "DATA_FOLDER='/Users/bramvandesande/Projects/lcb/resources'"
   ]
  },
  {
   "cell_type": "code",
   "execution_count": 2,
   "metadata": {},
   "outputs": [
    {
     "name": "stdout",
     "output_type": "stream",
     "text": [
      "1.1_exprMatrix_filtered.RData     grnboost2_adjacencies.tsv\n",
      "1.1_exprMatrix_filtered.csv       hs_tfs.txt\n",
      "1.2_inputTFs.RData                input_tfs.txt\n",
      "1.2_inputTFs.csv                  mm_tfs.txt\n",
      "1.5_GENIE3_linkList.RData         motifs-v9-nr.hgnc-m0.001-o0.0.tbl\n",
      "1.5_GENIE3_linkList.csv           motifs-v9-nr.mgi-m0.001-o0.0.tbl\n",
      "GSE60361.mtx.csv                  \u001b[1m\u001b[36msc-cancer-compendium\u001b[m\u001b[m\n",
      "GSE60361_C1-3005-Expression.txt   \u001b[1m\u001b[36msc-map-datasets\u001b[m\u001b[m\n",
      "exp_mtx.csv                       \u001b[1m\u001b[36mzeisel_et_al\u001b[m\u001b[m\n"
     ]
    }
   ],
   "source": [
    "!ls {DATA_FOLDER}"
   ]
  },
  {
   "cell_type": "markdown",
   "metadata": {},
   "source": [
    "### Preliminary work: convert RData "
   ]
  },
  {
   "cell_type": "code",
   "execution_count": 3,
   "metadata": {},
   "outputs": [],
   "source": [
    "import pandas as pd\n",
    "import os"
   ]
  },
  {
   "cell_type": "code",
   "execution_count": null,
   "metadata": {},
   "outputs": [],
   "source": [
    "df_tfs = pd.read_csv(os.path.join(DATA_FOLDER, '1.2_inputTFs.csv'))\n",
    "with open(os.path.join(DATA_FOLDER, 'input_tfs.txt'), 'wt') as f:\n",
    "    f.write(\"\\n\".join(df_tfs.x.values) + \"\\n\")"
   ]
  },
  {
   "cell_type": "code",
   "execution_count": null,
   "metadata": {},
   "outputs": [],
   "source": [
    "pd.read_csv(os.path.join(DATA_FOLDER, '1.1_exprMatrix_filtered.csv'), index_col=0).T.to_csv(os.path.join(DATA_FOLDER, 'exp_mtx.csv'))"
   ]
  },
  {
   "cell_type": "markdown",
   "metadata": {},
   "source": [
    "### Preliminary work: create adjacency list according to GRNBoost2 algorithm"
   ]
  },
  {
   "cell_type": "code",
   "execution_count": null,
   "metadata": {},
   "outputs": [],
   "source": [
    "from arboreto.utils import load_tf_names\n",
    "from arboreto.algo import grnboost2\n",
    "import pandas as pd\n",
    "import os\n",
    "from dask.distributed import LocalCluster, Client\n",
    "\n",
    "DATA_FOLDER='.'\n",
    "\n",
    "if __name__ == '__main__':\n",
    "    ex_matrix = pd.read_csv(os.path.join(DATA_FOLDER, 'exp_mtx.csv'), index_col=0)\n",
    "    tf_names = load_tf_names(os.path.join(DATA_FOLDER, 'input_tfs.txt'))\n",
    "\n",
    "    local_cluster = LocalCluster(n_workers=48, threads_per_worker=1)\n",
    "    client = Client(local_cluster)\n",
    "\n",
    "    adjacencies = grnboost2(expression_data=ex_matrix, tf_names=tf_names, verbose=True, client_or_address=client)\n",
    "    adjacencies.to_csv(os.path.join(DATA_FOLDER, 'grnboost2_adjacencies.tsv'), index=False, sep='\\t')\n",
    "\n",
    "    client.close()\n",
    "    local_cluster.close()"
   ]
  },
  {
   "cell_type": "markdown",
   "metadata": {},
   "source": [
    "### Compare adjacency lists"
   ]
  },
  {
   "cell_type": "code",
   "execution_count": 4,
   "metadata": {},
   "outputs": [],
   "source": [
    "adjacencies_genie3 = pd.read_csv(os.path.join(DATA_FOLDER, '1.5_GENIE3_linkList.csv'), usecols=[1, 2, 3]).sort_values(by='weight', ascending=False)\n",
    "adjacencies_genie3.rename(columns={'Target': 'target', 'weight': 'importance'}, inplace=True)"
   ]
  },
  {
   "cell_type": "code",
   "execution_count": 5,
   "metadata": {},
   "outputs": [
    {
     "data": {
      "text/html": [
       "<div>\n",
       "<style scoped>\n",
       "    .dataframe tbody tr th:only-of-type {\n",
       "        vertical-align: middle;\n",
       "    }\n",
       "\n",
       "    .dataframe tbody tr th {\n",
       "        vertical-align: top;\n",
       "    }\n",
       "\n",
       "    .dataframe thead th {\n",
       "        text-align: right;\n",
       "    }\n",
       "</style>\n",
       "<table border=\"1\" class=\"dataframe\">\n",
       "  <thead>\n",
       "    <tr style=\"text-align: right;\">\n",
       "      <th></th>\n",
       "      <th>TF</th>\n",
       "      <th>target</th>\n",
       "      <th>importance</th>\n",
       "    </tr>\n",
       "  </thead>\n",
       "  <tbody>\n",
       "    <tr>\n",
       "      <th>0</th>\n",
       "      <td>Dab2</td>\n",
       "      <td>Pf4</td>\n",
       "      <td>0.173916</td>\n",
       "    </tr>\n",
       "    <tr>\n",
       "      <th>1</th>\n",
       "      <td>Dab2</td>\n",
       "      <td>Mrc1</td>\n",
       "      <td>0.167264</td>\n",
       "    </tr>\n",
       "    <tr>\n",
       "      <th>2</th>\n",
       "      <td>Dab2</td>\n",
       "      <td>Cbr2</td>\n",
       "      <td>0.146576</td>\n",
       "    </tr>\n",
       "    <tr>\n",
       "      <th>3</th>\n",
       "      <td>Dab2</td>\n",
       "      <td>Tyrobp</td>\n",
       "      <td>0.144853</td>\n",
       "    </tr>\n",
       "    <tr>\n",
       "      <th>4</th>\n",
       "      <td>Dab2</td>\n",
       "      <td>Stab1</td>\n",
       "      <td>0.142367</td>\n",
       "    </tr>\n",
       "  </tbody>\n",
       "</table>\n",
       "</div>"
      ],
      "text/plain": [
       "     TF  target  importance\n",
       "0  Dab2     Pf4    0.173916\n",
       "1  Dab2    Mrc1    0.167264\n",
       "2  Dab2    Cbr2    0.146576\n",
       "3  Dab2  Tyrobp    0.144853\n",
       "4  Dab2   Stab1    0.142367"
      ]
     },
     "execution_count": 5,
     "metadata": {},
     "output_type": "execute_result"
    }
   ],
   "source": [
    "adjacencies_genie3.head()"
   ]
  },
  {
   "cell_type": "code",
   "execution_count": 6,
   "metadata": {},
   "outputs": [],
   "source": [
    "adjacencies_grnboost2 = pd.read_csv(os.path.join(DATA_FOLDER, 'grnboost2_adjacencies.tsv'), sep='\\t').sort_values(by='importance', ascending=False)"
   ]
  },
  {
   "cell_type": "code",
   "execution_count": 7,
   "metadata": {},
   "outputs": [
    {
     "data": {
      "text/html": [
       "<div>\n",
       "<style scoped>\n",
       "    .dataframe tbody tr th:only-of-type {\n",
       "        vertical-align: middle;\n",
       "    }\n",
       "\n",
       "    .dataframe tbody tr th {\n",
       "        vertical-align: top;\n",
       "    }\n",
       "\n",
       "    .dataframe thead th {\n",
       "        text-align: right;\n",
       "    }\n",
       "</style>\n",
       "<table border=\"1\" class=\"dataframe\">\n",
       "  <thead>\n",
       "    <tr style=\"text-align: right;\">\n",
       "      <th></th>\n",
       "      <th>TF</th>\n",
       "      <th>target</th>\n",
       "      <th>importance</th>\n",
       "    </tr>\n",
       "  </thead>\n",
       "  <tbody>\n",
       "    <tr>\n",
       "      <th>0</th>\n",
       "      <td>Rpl35</td>\n",
       "      <td>Rpl18a</td>\n",
       "      <td>99.115851</td>\n",
       "    </tr>\n",
       "    <tr>\n",
       "      <th>1</th>\n",
       "      <td>Dab2</td>\n",
       "      <td>Mrc1</td>\n",
       "      <td>97.608051</td>\n",
       "    </tr>\n",
       "    <tr>\n",
       "      <th>2</th>\n",
       "      <td>Rpl35</td>\n",
       "      <td>Rps28</td>\n",
       "      <td>95.306114</td>\n",
       "    </tr>\n",
       "    <tr>\n",
       "      <th>3</th>\n",
       "      <td>Rpl35</td>\n",
       "      <td>Rpl32</td>\n",
       "      <td>94.416149</td>\n",
       "    </tr>\n",
       "    <tr>\n",
       "      <th>4</th>\n",
       "      <td>Mylk</td>\n",
       "      <td>Myl9</td>\n",
       "      <td>93.607445</td>\n",
       "    </tr>\n",
       "  </tbody>\n",
       "</table>\n",
       "</div>"
      ],
      "text/plain": [
       "      TF  target  importance\n",
       "0  Rpl35  Rpl18a   99.115851\n",
       "1   Dab2    Mrc1   97.608051\n",
       "2  Rpl35   Rps28   95.306114\n",
       "3  Rpl35   Rpl32   94.416149\n",
       "4   Mylk    Myl9   93.607445"
      ]
     },
     "execution_count": 7,
     "metadata": {},
     "output_type": "execute_result"
    }
   ],
   "source": [
    "adjacencies_grnboost2.head()"
   ]
  },
  {
   "cell_type": "code",
   "execution_count": 8,
   "metadata": {},
   "outputs": [],
   "source": [
    "import matplotlib.pyplot as plt"
   ]
  },
  {
   "cell_type": "code",
   "execution_count": 9,
   "metadata": {},
   "outputs": [
    {
     "data": {
      "text/plain": [
       "<matplotlib.legend.Legend at 0x10af96668>"
      ]
     },
     "execution_count": 9,
     "metadata": {},
     "output_type": "execute_result"
    },
    {
     "data": {
      "image/png": "[encoded data removed]",
      "text/plain": [
       "<Figure size 864x288 with 2 Axes>"
      ]
     },
     "metadata": {},
     "output_type": "display_data"
    }
   ],
   "source": [
    "y_lim = 500000\n",
    "fig, (ax1, ax2) = plt.subplots(1, 2, figsize=(12,4))\n",
    "df = adjacencies_grnboost2\n",
    "ax1.plot(df.index.values, df.importance, '-')\n",
    "ax1.set_xlim([0,y_lim])\n",
    "ax1.set_title('GRNBoost2')\n",
    "ax1.set_ylabel('importance')\n",
    "ax1.set_xlabel('adjacencies (sorted)')\n",
    "ax1.plot([0, y_lim], [0.001, 0.001], 'g-', label='0.001')\n",
    "ax1.plot([0, y_lim], [0.005, 0.005], 'r-', label='0.005')\n",
    "ax1.legend()\n",
    "df = adjacencies_genie3\n",
    "ax2.plot(df.index.values, df.importance, '-')\n",
    "ax2.set_xlim([0,y_lim])\n",
    "ax2.set_title('GENIE3')\n",
    "ax2.plot([0, y_lim], [0.001, 0.001], 'g-', label='0.001')\n",
    "ax2.plot([0, y_lim], [0.005, 0.005], 'r-', label='0.005')\n",
    "ax2.set_xlabel('adjacencies (sorted)')\n",
    "ax2.legend()"
   ]
  },
  {
   "cell_type": "code",
   "execution_count": 10,
   "metadata": {},
   "outputs": [
    {
     "data": {
      "text/plain": [
       "0.05    0.001037\n",
       "0.10    0.001077\n",
       "0.25    0.001216\n",
       "0.50    0.001567\n",
       "0.75    0.002385\n",
       "0.90    0.004364\n",
       "Name: importance, dtype: float64"
      ]
     },
     "execution_count": 10,
     "metadata": {},
     "output_type": "execute_result"
    }
   ],
   "source": [
    "percentiles = [0.05, 0.10, 0.25, 0.50, 0.75, 0.90]\n",
    "adjacencies_genie3.importance.quantile(percentiles)"
   ]
  },
  {
   "cell_type": "code",
   "execution_count": 11,
   "metadata": {},
   "outputs": [
    {
     "data": {
      "text/plain": [
       "0.05    0.010404\n",
       "0.10    0.031795\n",
       "0.25    0.089075\n",
       "0.50    0.182801\n",
       "0.75    0.456872\n",
       "0.90    1.353637\n",
       "Name: importance, dtype: float64"
      ]
     },
     "execution_count": 11,
     "metadata": {},
     "output_type": "execute_result"
    }
   ],
   "source": [
    "percentiles = [0.05, 0.10, 0.25, 0.50, 0.75, 0.90]\n",
    "adjacencies_grnboost2.importance.quantile(percentiles)"
   ]
  },
  {
   "cell_type": "code",
   "execution_count": 12,
   "metadata": {},
   "outputs": [
    {
     "name": "stderr",
     "output_type": "stream",
     "text": [
      "/Users/bramvandesande/miniconda3/envs/pyscenic_dev/lib/python3.6/site-packages/matplotlib/axes/_axes.py:6448: UserWarning: The 'normed' kwarg is deprecated, and has been replaced by the 'density' kwarg.\n",
      "  warnings.warn(\"The 'normed' kwarg is deprecated, and has been \"\n"
     ]
    },
    {
     "data": {
      "image/png": "[encoded data removed]",
      "text/plain": [
       "<Figure size 864x288 with 2 Axes>"
      ]
     },
     "metadata": {},
     "output_type": "display_data"
    }
   ],
   "source": [
    "fig, (ax1, ax2) = plt.subplots(1, 2, figsize=(12,4))\n",
    "df = adjacencies_grnboost2\n",
    "ax1.hist(df.importance, normed=True, cumulative=True, histtype='step',label='GRNBoost2', alpha=0.8, color='b', bins=100)\n",
    "ax1.set_title('GRNBoost2')\n",
    "ax1.set_ylim([0, 1.01])\n",
    "ax1.plot([0.001] * 2, [0, 1.01], 'g')\n",
    "ax1.plot([0.005] * 2, [0, 1.01], 'r')\n",
    "ax1.set_ylabel('p(X<=importance)')\n",
    "ax1.set_xlabel('importance')\n",
    "df = adjacencies_genie3\n",
    "ax2.hist(df.importance, normed=True, cumulative=True, histtype='step',label='CDF', alpha=0.8, color='b', bins=100)\n",
    "ax2.set_title('GENIE3')\n",
    "ax2.set_ylim([0, 1.01])\n",
    "ax2.plot([0.001] * 2, [0, 1.01], 'g', label='0.001')\n",
    "ax2.plot([0.005] * 2, [0, 1.01], 'r', label='0.005')\n",
    "ax2.set_ylabel('')\n",
    "ax2.set_xlabel('importance')\n",
    "ax2.legend()\n",
    "pass"
   ]
  },
  {
   "cell_type": "code",
   "execution_count": 13,
   "metadata": {},
   "outputs": [
    {
     "data": {
      "text/plain": [
       "[0.0, 91.82930632121473]"
      ]
     },
     "execution_count": 13,
     "metadata": {},
     "output_type": "execute_result"
    }
   ],
   "source": [
    "from scipy import stats\n",
    "\n",
    "[stats.percentileofscore(adjacencies_genie3.importance, thr) for thr in [0.001, 0.005]]"
   ]
  },
  {
   "cell_type": "code",
   "execution_count": 14,
   "metadata": {},
   "outputs": [],
   "source": [
    "from pyscenic.utils import modules4thr, modules4top_factors, modules4top_targets\n",
    "from itertools import chain, repeat\n",
    "from collections import defaultdict\n",
    "from operator import attrgetter\n",
    "import seaborn as sns\n",
    "import numpy as np"
   ]
  },
  {
   "cell_type": "code",
   "execution_count": 15,
   "metadata": {},
   "outputs": [],
   "source": [
    "def derive_modules(adjacencies):\n",
    "    thresholds = [0.001, 0.005]\n",
    "    percentiles = [0.05, 0.10, 0.25, 0.50, 0.75, 0.90]\n",
    "    top_n_targets = [50,]\n",
    "    top_n_regulators = [5,10,50]\n",
    "    return chain(\n",
    "        chain.from_iterable(map(lambda thr: modules4thr(adjacencies, thr), thresholds)),\n",
    "        chain.from_iterable(map(lambda t: modules4thr(adjacencies, t[0], pattern=\"weight>{}%\".format(t[1]*100)),\n",
    "                                zip(list(adjacencies.importance.quantile(percentiles)), percentiles))),\n",
    "        chain.from_iterable(map(lambda n: modules4top_targets(adjacencies, n), top_n_targets)),\n",
    "        chain.from_iterable(map(lambda n: modules4top_factors(adjacencies, n), top_n_regulators)))"
   ]
  },
  {
   "cell_type": "code",
   "execution_count": 16,
   "metadata": {},
   "outputs": [],
   "source": [
    "modules_genie3 = list(derive_modules(adjacencies_genie3))\n",
    "modules_grnboost2 = list(derive_modules(adjacencies_grnboost2))"
   ]
  },
  {
   "cell_type": "code",
   "execution_count": 17,
   "metadata": {},
   "outputs": [
    {
     "data": {
      "text/plain": [
       "12022"
      ]
     },
     "execution_count": 17,
     "metadata": {},
     "output_type": "execute_result"
    }
   ],
   "source": [
    "len(modules_genie3)"
   ]
  },
  {
   "cell_type": "code",
   "execution_count": 18,
   "metadata": {},
   "outputs": [
    {
     "data": {
      "text/plain": [
       "12035"
      ]
     },
     "execution_count": 18,
     "metadata": {},
     "output_type": "execute_result"
    }
   ],
   "source": [
    "len(modules_grnboost2)"
   ]
  },
  {
   "cell_type": "code",
   "execution_count": 19,
   "metadata": {},
   "outputs": [],
   "source": [
    "def todict(modules):\n",
    "    def singleton(context):\n",
    "        return next(iter(context))\n",
    "\n",
    "    name2modules = defaultdict(list)\n",
    "    for module in modules:\n",
    "        name2modules[singleton(module.context)].append(module)\n",
    "    return name2modules"
   ]
  },
  {
   "cell_type": "code",
   "execution_count": 20,
   "metadata": {},
   "outputs": [],
   "source": [
    "def stats(modules, name):\n",
    "    def gettype(module):\n",
    "        # (+) Is also used for indicating no correlation assessed between TF and its target gene.\n",
    "        return \"(-)\" if \"repressing\" in module.context else \"(+)\"\n",
    "\n",
    "    return pd.DataFrame(\n",
    "            data=list(\n",
    "                zip(map(len, modules), \n",
    "                    repeat(name), \n",
    "                    map(attrgetter('transcription_factor'), modules),\n",
    "                    map(gettype, modules)), \n",
    "                ), \n",
    "            columns=['size', 'method', 'tf', 'type'])"
   ]
  },
  {
   "cell_type": "code",
   "execution_count": 21,
   "metadata": {},
   "outputs": [
    {
     "name": "stderr",
     "output_type": "stream",
     "text": [
      "/Users/bramvandesande/miniconda3/envs/pyscenic_dev/lib/python3.6/site-packages/matplotlib/cbook/__init__.py:1859: RuntimeWarning: invalid value encountered in double_scalars\n",
      "  loval = q1 - whis * stats['iqr']\n",
      "/Users/bramvandesande/miniconda3/envs/pyscenic_dev/lib/python3.6/site-packages/matplotlib/cbook/__init__.py:1860: RuntimeWarning: invalid value encountered in double_scalars\n",
      "  hival = q3 + whis * stats['iqr']\n",
      "/Users/bramvandesande/miniconda3/envs/pyscenic_dev/lib/python3.6/site-packages/matplotlib/cbook/__init__.py:1872: RuntimeWarning: invalid value encountered in less_equal\n",
      "  wiskhi = np.compress(x <= hival, x)\n",
      "/Users/bramvandesande/miniconda3/envs/pyscenic_dev/lib/python3.6/site-packages/matplotlib/cbook/__init__.py:1879: RuntimeWarning: invalid value encountered in greater_equal\n",
      "  wisklo = np.compress(x >= loval, x)\n"
     ]
    },
    {
     "data": {
      "text/plain": [
       "<matplotlib.legend.Legend at 0x144c31eb8>"
      ]
     },
     "execution_count": 21,
     "metadata": {},
     "output_type": "execute_result"
    },
    {
     "data": {
      "image/png": "[encoded data removed]",
      "text/plain": [
       "<Figure size 864x288 with 2 Axes>"
      ]
     },
     "metadata": {},
     "output_type": "display_data"
    }
   ],
   "source": [
    "name2modules = todict(modules_genie3)\n",
    "fig, (ax2, ax3) = plt.subplots(1, 2, figsize=(12,4))\n",
    "df = pd.concat([stats(modules, name) for name, modules in name2modules.items()])\n",
    "ax2.set_ylabel('#')\n",
    "ax2.set_title('TFs')\n",
    "df[['method', 'type', 'tf']].drop_duplicates().groupby(['method', 'type'])['method'].count().unstack('type').plot(kind='bar', stacked=True, ax=ax2, legend=False)\n",
    "ax2.set_xlabel('parameters')\n",
    "\n",
    "ax3.set_yscale(\"log\")\n",
    "sns.boxplot(y=\"size\", x=\"method\", hue='type', data=df.sort_index(), whis=np.inf, ax=ax3)\n",
    "ax3.yaxis.grid(True)\n",
    "ax3.set(ylabel=\"\", title='Targets')\n",
    "sns.despine(trim=True, left=True)\n",
    "plt.xticks(rotation=90)\n",
    "ax3.set_xlabel('parameters')\n",
    "ax3.legend([])"
   ]
  },
  {
   "cell_type": "code",
   "execution_count": 22,
   "metadata": {},
   "outputs": [
    {
     "name": "stderr",
     "output_type": "stream",
     "text": [
      "/Users/bramvandesande/miniconda3/envs/pyscenic_dev/lib/python3.6/site-packages/matplotlib/cbook/__init__.py:1859: RuntimeWarning: invalid value encountered in double_scalars\n",
      "  loval = q1 - whis * stats['iqr']\n",
      "/Users/bramvandesande/miniconda3/envs/pyscenic_dev/lib/python3.6/site-packages/matplotlib/cbook/__init__.py:1860: RuntimeWarning: invalid value encountered in double_scalars\n",
      "  hival = q3 + whis * stats['iqr']\n",
      "/Users/bramvandesande/miniconda3/envs/pyscenic_dev/lib/python3.6/site-packages/matplotlib/cbook/__init__.py:1872: RuntimeWarning: invalid value encountered in less_equal\n",
      "  wiskhi = np.compress(x <= hival, x)\n",
      "/Users/bramvandesande/miniconda3/envs/pyscenic_dev/lib/python3.6/site-packages/matplotlib/cbook/__init__.py:1879: RuntimeWarning: invalid value encountered in greater_equal\n",
      "  wisklo = np.compress(x >= loval, x)\n"
     ]
    },
    {
     "data": {
      "text/plain": [
       "<matplotlib.legend.Legend at 0x1a5ab6eba8>"
      ]
     },
     "execution_count": 22,
     "metadata": {},
     "output_type": "execute_result"
    },
    {
     "data": {
      "image/png": "[encoded data removed]",
      "text/plain": [
       "<Figure size 864x288 with 2 Axes>"
      ]
     },
     "metadata": {},
     "output_type": "display_data"
    }
   ],
   "source": [
    "name2modules = todict(modules_grnboost2)\n",
    "fig, (ax2, ax3) = plt.subplots(1, 2, figsize=(12,4))\n",
    "df = pd.concat([stats(modules, name) for name, modules in name2modules.items()])\n",
    "ax2.set_ylabel('#')\n",
    "ax2.set_title('TFs')\n",
    "df[['method', 'type', 'tf']].drop_duplicates().groupby(['method', 'type'])['method'].count().unstack('type').plot(kind='bar', stacked=True, ax=ax2, legend=False)\n",
    "ax2.set_xlabel('parameters')\n",
    "\n",
    "ax3.set_yscale(\"log\")\n",
    "sns.boxplot(y=\"size\", x=\"method\", hue='type', data=df.sort_index(), whis=np.inf, ax=ax3)\n",
    "ax3.yaxis.grid(True)\n",
    "ax3.set(ylabel=\"\", title='Targets')\n",
    "sns.despine(trim=True, left=True)\n",
    "plt.xticks(rotation=90)\n",
    "ax3.set_xlabel('parameters')\n",
    "ax3.legend([])"
   ]
  },
  {
   "cell_type": "code",
   "execution_count": 23,
   "metadata": {},
   "outputs": [],
   "source": [
    "ex_matrix = pd.read_csv(os.path.join(DATA_FOLDER, 'exp_mtx.csv'), index_col=0)"
   ]
  },
  {
   "cell_type": "code",
   "execution_count": 24,
   "metadata": {},
   "outputs": [],
   "source": [
    "from pyscenic.utils import modules_from_adjacencies\n",
    "\n",
    "modules = list(modules_from_adjacencies(adjacencies_grnboost2, ex_matrix, \"MGI\"))"
   ]
  },
  {
   "cell_type": "code",
   "execution_count": 25,
   "metadata": {},
   "outputs": [
    {
     "data": {
      "text/plain": [
       "8791"
      ]
     },
     "execution_count": 25,
     "metadata": {},
     "output_type": "execute_result"
    }
   ],
   "source": [
    "len(modules)"
   ]
  },
  {
   "cell_type": "code",
   "execution_count": 41,
   "metadata": {},
   "outputs": [
    {
     "data": {
      "text/plain": [
       "{'activating',\n",
       " 'repressing',\n",
       " 'top10perTarget',\n",
       " 'top50',\n",
       " 'top50perTarget',\n",
       " 'top5perTarget',\n",
       " 'weight>10.0%',\n",
       " 'weight>5.0%'}"
      ]
     },
     "execution_count": 41,
     "metadata": {},
     "output_type": "execute_result"
    }
   ],
   "source": [
    "from cytoolz import pipe\n",
    "from cytoolz.curried import map, mapcat\n",
    "set(pipe(modules, map(attrgetter('context')), mapcat(list)))"
   ]
  },
  {
   "cell_type": "code",
   "execution_count": null,
   "metadata": {},
   "outputs": [],
   "source": []
  }
 ],
 "metadata": {
  "kernelspec": {
   "display_name": "Python 3.6.4 (pyscenic_dev)",
   "language": "python",
   "name": "pyscenic_dev"
  },
  "language_info": {
   "codemirror_mode": {
    "name": "ipython",
    "version": 3
   },
   "file_extension": ".py",
   "mimetype": "text/x-python",
   "name": "python",
   "nbconvert_exporter": "python",
   "pygments_lexer": "ipython3",
   "version": "3.6.4"
  }
 },
 "nbformat": 4,
 "nbformat_minor": 2
}
